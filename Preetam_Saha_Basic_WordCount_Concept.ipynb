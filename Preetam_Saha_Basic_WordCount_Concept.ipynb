{
  "nbformat": 4,
  "nbformat_minor": 0,
  "metadata": {
    "colab": {
      "provenance": [],
      "collapsed_sections": [],
      "include_colab_link": true
    },
    "kernelspec": {
      "name": "python3",
      "display_name": "Python 3"
    },
    "language_info": {
      "name": "python"
    }
  },
  "cells": [
    {
      "cell_type": "markdown",
      "metadata": {
        "id": "view-in-github",
        "colab_type": "text"
      },
      "source": [
        "<a href=\"https://colab.research.google.com/github/preetamjumech/Hadoop_Practice/blob/main/Preetam_Saha_Basic_WordCount_Concept.ipynb\" target=\"_parent\"><img src=\"https://colab.research.google.com/assets/colab-badge.svg\" alt=\"Open In Colab\"/></a>"
      ]
    },
    {
      "cell_type": "markdown",
      "metadata": {
        "id": "TgVnsffZDfwV"
      },
      "source": [
        "# Map Reduce Concept\n",
        "Here we demonstrate the principles of Map-Reduce WITHOUT the need for any complex software like Hadoop or Spark.\n",
        "\n",
        "Its a Word_Count Problem.Its like a hello world in big data."
      ]
    },
    {
      "cell_type": "markdown",
      "metadata": {
        "id": "KlC9eIM9Dtxx"
      },
      "source": [
        "## Create a map.py and red(uce).py file"
      ]
    },
    {
      "cell_type": "code",
      "metadata": {
        "colab": {
          "base_uri": "https://localhost:8080/"
        },
        "id": "-IrWIhm_cTO_",
        "outputId": "76bdf6dc-a648-41cd-9e89-6addd021eace"
      },
      "source": [
        "%%writefile map.py\n",
        "#!/usr/bin/env python\n",
        "\n",
        "import sys\n",
        "\n",
        "# input comes from STDIN (standard input)\n",
        "for line in sys.stdin:\n",
        "    # remove leading and trailing whitespace\n",
        "    line = line.strip()\n",
        "    # split the line into words\n",
        "    words = line.split()\n",
        "    # increase counters\n",
        "    for word in words:\n",
        "        # write the results to STDOUT (standard output);\n",
        "        # what we output here will be the input for the\n",
        "        # Reduce step, i.e. the input for reducer.py\n",
        "        #\n",
        "        # tab-delimited; the trivial word count is 1\n",
        "        print (word, 1)"
      ],
      "execution_count": 1,
      "outputs": [
        {
          "output_type": "stream",
          "name": "stdout",
          "text": [
            "Writing map.py\n"
          ]
        }
      ]
    },
    {
      "cell_type": "markdown",
      "source": [
        "### It stores a file called map.py\n",
        "### %% it is the magic command which takes the content of the block and stores it as a file"
      ],
      "metadata": {
        "id": "WWVHwcsoUGKX"
      }
    },
    {
      "cell_type": "code",
      "metadata": {
        "colab": {
          "base_uri": "https://localhost:8080/"
        },
        "id": "LYJ9ydfqcsN7",
        "outputId": "81f45827-4275-47ab-a339-b7b6cbaf4f5d"
      },
      "source": [
        "%%writefile red.py\n",
        "#!/usr/bin/env python\n",
        "\n",
        "from operator import itemgetter\n",
        "import sys\n",
        "\n",
        "current_word = None\n",
        "current_count = 0\n",
        "word = None\n",
        "\n",
        "# input comes from STDIN\n",
        "for line in sys.stdin:\n",
        "    # remove leading and trailing whitespace\n",
        "    line = line.strip()\n",
        "    \n",
        "\n",
        "    # parse the input we got from mapper.py\n",
        "    word, count = line.split(' ')\n",
        "    # convert count (currently a string) to int\n",
        "    count = int(count)\n",
        "\n",
        "    # this IF-switch only works because Hadoop sorts map output\n",
        "    # by key (here: word) before it is passed to the reducer\n",
        "    if current_word == word:\n",
        "        current_count += count\n",
        "    else:\n",
        "        if current_word:\n",
        "            # write result to STDOUT\n",
        "            print (current_word, current_count)\n",
        "        current_count = count\n",
        "        current_word = word\n",
        "\n",
        "# do not forget to output the last word if needed!\n",
        "if current_word == word:\n",
        "    print (current_word, current_count)"
      ],
      "execution_count": 2,
      "outputs": [
        {
          "output_type": "stream",
          "name": "stdout",
          "text": [
            "Writing red.py\n"
          ]
        }
      ]
    },
    {
      "cell_type": "code",
      "metadata": {
        "id": "s1Cd31G-RrUJ",
        "outputId": "1504eeb3-4130-4b64-8d43-4fe712eb4572",
        "colab": {
          "base_uri": "https://localhost:8080/"
        }
      },
      "source": [
        "!ls -al\n",
        "# Removing carriage returns ... not required anymore\n",
        "#!sed 's/\\r$//' map.py > map1.py \n",
        "#!sed 's/\\r$//' red.py > red1.py"
      ],
      "execution_count": 3,
      "outputs": [
        {
          "output_type": "stream",
          "name": "stdout",
          "text": [
            "total 24\n",
            "drwxr-xr-x 1 root root 4096 Nov  6 04:59 .\n",
            "drwxr-xr-x 1 root root 4096 Nov  6 04:58 ..\n",
            "drwxr-xr-x 4 root root 4096 Oct 28 13:36 .config\n",
            "-rw-r--r-- 1 root root  526 Nov  6 04:59 map.py\n",
            "-rw-r--r-- 1 root root  871 Nov  6 04:59 red.py\n",
            "drwxr-xr-x 1 root root 4096 Oct 28 13:37 sample_data\n"
          ]
        }
      ]
    },
    {
      "cell_type": "markdown",
      "source": [
        "### now, these map.py and reduce.py are made to be executable."
      ],
      "metadata": {
        "id": "6n_ECmFGVSJC"
      }
    },
    {
      "cell_type": "code",
      "metadata": {
        "id": "ZkFcWvDjS15y",
        "outputId": "51f3e655-4bce-4c41-d953-94309782b747",
        "colab": {
          "base_uri": "https://localhost:8080/"
        }
      },
      "source": [
        "# make files executable\n",
        "!chmod u+rwx /content/map.py\n",
        "!chmod u+rwx /content/red.py\n",
        "!ls -al"
      ],
      "execution_count": 4,
      "outputs": [
        {
          "output_type": "stream",
          "name": "stdout",
          "text": [
            "total 24\n",
            "drwxr-xr-x 1 root root 4096 Nov  6 04:59 .\n",
            "drwxr-xr-x 1 root root 4096 Nov  6 04:58 ..\n",
            "drwxr-xr-x 4 root root 4096 Oct 28 13:36 .config\n",
            "-rwxr--r-- 1 root root  526 Nov  6 04:59 map.py\n",
            "-rwxr--r-- 1 root root  871 Nov  6 04:59 red.py\n",
            "drwxr-xr-x 1 root root 4096 Oct 28 13:37 sample_data\n"
          ]
        }
      ]
    },
    {
      "cell_type": "markdown",
      "metadata": {
        "id": "nfCNZ8NLEK6W"
      },
      "source": [
        "## 3 steps > MAP > SORT > REDUCE"
      ]
    },
    {
      "cell_type": "code",
      "metadata": {
        "id": "Ms0yPMrTEPI-",
        "outputId": "245abf70-1493-4797-e826-064c49dd3cb8",
        "colab": {
          "base_uri": "https://localhost:8080/"
        }
      },
      "source": [
        "# Step 0 > just PRINT the input\n",
        "!echo \"the king beneath the mountain the king of carven stone\""
      ],
      "execution_count": 5,
      "outputs": [
        {
          "output_type": "stream",
          "name": "stdout",
          "text": [
            "the king beneath the mountain the king of carven stone\n"
          ]
        }
      ]
    },
    {
      "cell_type": "markdown",
      "source": [
        "### I want to count how many times each word appears in the data, like king will appear twice, the will appear thrice etc"
      ],
      "metadata": {
        "id": "VgjTKupRUPHj"
      }
    },
    {
      "cell_type": "code",
      "metadata": {
        "colab": {
          "base_uri": "https://localhost:8080/"
        },
        "id": "5TZChgYhS7Mr",
        "outputId": "4a1a0b48-de81-47c9-e2fa-71c00895a0b8"
      },
      "source": [
        "# Step 1 > MAP the data\n",
        "!echo \"the king beneath the mountain the king of carven stone\" | ./map.py #output is like key-value pair, key = the , value = 1"
      ],
      "execution_count": 6,
      "outputs": [
        {
          "output_type": "stream",
          "name": "stdout",
          "text": [
            "the 1\n",
            "king 1\n",
            "beneath 1\n",
            "the 1\n",
            "mountain 1\n",
            "the 1\n",
            "king 1\n",
            "of 1\n",
            "carven 1\n",
            "stone 1\n"
          ]
        }
      ]
    },
    {
      "cell_type": "markdown",
      "source": [
        "### This is the output of mapper"
      ],
      "metadata": {
        "id": "E00ZV-9fV8gV"
      }
    },
    {
      "cell_type": "code",
      "metadata": {
        "colab": {
          "base_uri": "https://localhost:8080/"
        },
        "id": "qnKCisUeTKY1",
        "outputId": "4f21a041-9a9b-40be-df11-506790ac2088"
      },
      "source": [
        "# Step 2 > SORT the MAP output\n",
        "!echo \"the king beneath the mountain the king of carven stone\" | ./map.py | sort"
      ],
      "execution_count": 7,
      "outputs": [
        {
          "output_type": "stream",
          "name": "stdout",
          "text": [
            "beneath 1\n",
            "carven 1\n",
            "king 1\n",
            "king 1\n",
            "mountain 1\n",
            "of 1\n",
            "stone 1\n",
            "the 1\n",
            "the 1\n",
            "the 1\n"
          ]
        }
      ]
    },
    {
      "cell_type": "markdown",
      "source": [
        "### so, the words are sorted now in alphabetical order"
      ],
      "metadata": {
        "id": "g_NFkVbgYNhw"
      }
    },
    {
      "cell_type": "code",
      "metadata": {
        "colab": {
          "base_uri": "https://localhost:8080/"
        },
        "id": "wgPVC-iQTP-0",
        "outputId": "d5c616d5-fab0-4cbf-96a5-f70a9f4608f5"
      },
      "source": [
        "# Step 3 > REDUCE the SORT output\n",
        "!echo \"the king beneath the mountain the king of carven stone\" | ./map.py | sort | ./red.py"
      ],
      "execution_count": 8,
      "outputs": [
        {
          "output_type": "stream",
          "name": "stdout",
          "text": [
            "beneath 1\n",
            "carven 1\n",
            "king 2\n",
            "mountain 1\n",
            "of 1\n",
            "stone 1\n",
            "the 3\n"
          ]
        }
      ]
    },
    {
      "cell_type": "markdown",
      "source": [
        "### so, we have used a simple map-reducer on a tiny example just to see how they work"
      ],
      "metadata": {
        "id": "maR8U_fvZOAR"
      }
    },
    {
      "cell_type": "markdown",
      "metadata": {
        "id": "0zcpEo7pFaum"
      },
      "source": [
        "## Use an input file"
      ]
    },
    {
      "cell_type": "code",
      "metadata": {
        "colab": {
          "base_uri": "https://localhost:8080/"
        },
        "id": "QiM14ESgdprJ",
        "outputId": "d170357c-a943-4720-8e2e-3c7a9421c823"
      },
      "source": [
        "%%writefile hobbit.txt\n",
        "The King beneath the mountains\n",
        "The King of carven stone\n",
        "The lord of silver fountains\n",
        "Shall come into his own\n",
        "His crown shall be upholding\n",
        "His harp shall be restrung\n",
        "His halls shall echo golden\n",
        "To songs of yore re-sung\n",
        "The woods shall wave on mountains\n",
        "And grass beneath the sun\n",
        "His wealth shall flow in fountains\n",
        "And the rivers golden run\n",
        "The streams shall run in gladness\n",
        "The lakes shall shine and burn\n",
        "All sorrow fail and sadness\n",
        "At the mountain kings return\n",
        "The King beneath the mountains\n",
        "The King of carven stone\n",
        "The lord of silver fountains\n",
        "Shall come into his own\n",
        "His crown shall be upholding\n",
        "His harp shall be restrung\n",
        "His halls shall echo golden\n",
        "To songs of yore re-sung\n",
        "The woods shall wave on mountains\n",
        "And grass beneath the sun\n",
        "His wealth shall flow in fountains\n",
        "And the rivers golden run\n",
        "The streams shall run in gladness\n",
        "The lakes shall shine and burn\n",
        "All sorrow fail and sadness\n",
        "At the mountain kings return\n",
        "The King beneath the mountains\n",
        "The King of carven stone\n",
        "The lord of silver fountains\n",
        "Shall come into his own\n",
        "His crown shall be upholding\n",
        "His harp shall be restrung\n",
        "His halls shall echo golden\n",
        "To songs of yore re-sung\n",
        "The woods shall wave on mountains\n",
        "And grass beneath the sun\n",
        "His wealth shall flow in fountains\n",
        "And the rivers golden run\n",
        "The streams shall run in gladness\n",
        "The lakes shall shine and burn\n",
        "All sorrow fail and sadness\n",
        "At the mountain kings return\n",
        "All sorrow fail and sadness\n",
        "At the mountain kings return"
      ],
      "execution_count": 9,
      "outputs": [
        {
          "output_type": "stream",
          "name": "stdout",
          "text": [
            "Writing hobbit.txt\n"
          ]
        }
      ]
    },
    {
      "cell_type": "code",
      "metadata": {
        "id": "SR8kKPfSd1Za"
      },
      "source": [
        "#!cat hobbit.txt"
      ],
      "execution_count": 10,
      "outputs": []
    },
    {
      "cell_type": "code",
      "metadata": {
        "colab": {
          "base_uri": "https://localhost:8080/"
        },
        "id": "dJct7MHFd8bl",
        "outputId": "0798509b-a2cc-458c-c29e-ed9bf3bbccb5"
      },
      "source": [
        "!cat hobbit.txt | ./map.py | sort | ./red.py"
      ],
      "execution_count": 11,
      "outputs": [
        {
          "output_type": "stream",
          "name": "stdout",
          "text": [
            "All 4\n",
            "and 7\n",
            "And 6\n",
            "At 4\n",
            "be 6\n",
            "beneath 6\n",
            "burn 3\n",
            "carven 3\n",
            "come 3\n",
            "crown 3\n",
            "echo 3\n",
            "fail 4\n",
            "flow 3\n",
            "fountains 6\n",
            "gladness 3\n",
            "golden 6\n",
            "grass 3\n",
            "halls 3\n",
            "harp 3\n",
            "his 3\n",
            "His 12\n",
            "in 6\n",
            "into 3\n",
            "King 6\n",
            "kings 4\n",
            "lakes 3\n",
            "lord 3\n",
            "mountain 4\n",
            "mountains 6\n",
            "of 9\n",
            "on 3\n",
            "own 3\n",
            "restrung 3\n",
            "re-sung 3\n",
            "return 4\n",
            "rivers 3\n",
            "run 6\n",
            "sadness 4\n",
            "shall 21\n",
            "Shall 3\n",
            "shine 3\n",
            "silver 3\n",
            "songs 3\n",
            "sorrow 4\n",
            "stone 3\n",
            "streams 3\n",
            "sun 3\n",
            "the 13\n",
            "The 18\n",
            "To 3\n",
            "upholding 3\n",
            "wave 3\n",
            "wealth 3\n",
            "woods 3\n",
            "yore 3\n"
          ]
        }
      ]
    },
    {
      "cell_type": "markdown",
      "source": [
        "### map-reduce is a concept, it can be done with word count, with hadoop and cluster, with python also. but when we do it with hadoop and cluster, then only real benefit appears. we can do it for very large piece of data."
      ],
      "metadata": {
        "id": "Sw8YfDP_at6m"
      }
    },
    {
      "cell_type": "markdown",
      "source": [
        "### Google also uses the same map-reduce concept to find out how many times an url appears. url is anlogous to words here.say, harvard.edu appears more times than praxis.ac.in. that is the reason it has higher rank in university ranking list. "
      ],
      "metadata": {
        "id": "JMTb4snebuj5"
      }
    },
    {
      "cell_type": "code",
      "source": [
        "from datetime import datetime\n",
        "import pytz\n",
        "print('signed off at  ',datetime.now(pytz.timezone('Asia/Kolkata')))"
      ],
      "metadata": {
        "id": "NzICwVOSw9RP",
        "outputId": "301ea609-d97c-4be2-d5fd-ded275417092",
        "colab": {
          "base_uri": "https://localhost:8080/"
        }
      },
      "execution_count": 12,
      "outputs": [
        {
          "output_type": "stream",
          "name": "stdout",
          "text": [
            "signed off at   2022-11-06 10:57:43.990355+05:30\n"
          ]
        }
      ]
    }
  ]
}