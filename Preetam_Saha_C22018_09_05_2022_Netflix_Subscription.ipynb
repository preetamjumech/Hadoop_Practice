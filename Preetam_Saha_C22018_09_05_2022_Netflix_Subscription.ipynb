{
  "nbformat": 4,
  "nbformat_minor": 0,
  "metadata": {
    "colab": {
      "name": "Preetam Saha C22018 09.05.2022 Netflix Subscription",
      "provenance": [],
      "collapsed_sections": [],
      "include_colab_link": true
    },
    "kernelspec": {
      "name": "python3",
      "display_name": "Python 3"
    }
  },
  "cells": [
    {
      "cell_type": "markdown",
      "metadata": {
        "id": "view-in-github",
        "colab_type": "text"
      },
      "source": [
        "<a href=\"https://colab.research.google.com/github/preetamjumech/Hadoop_Practice/blob/main/Preetam_Saha_C22018_09_05_2022_Netflix_Subscription.ipynb\" target=\"_parent\"><img src=\"https://colab.research.google.com/assets/colab-badge.svg\" alt=\"Open In Colab\"/></a>"
      ]
    },
    {
      "cell_type": "markdown",
      "metadata": {
        "id": "mwjvirExIQAM"
      },
      "source": [
        "#Hive with Hadoop\n",
        "This notebook has all the codes / commands required to install Hadoop and Hive <br>\n",
        "\n"
      ]
    },
    {
      "cell_type": "markdown",
      "metadata": {
        "id": "RK5y3g-ySDmZ"
      },
      "source": [
        "##Acknowledgements\n",
        "Hadoop Installation from [Anjaly Sam's Github Repository](https://github.com/anjalysam/Hadoop) <br>\n",
        "Hive Installation from [PhoenixNAP](https://phoenixnap.com/kb/install-hive-on-ubuntu) website"
      ]
    },
    {
      "cell_type": "markdown",
      "metadata": {
        "id": "myPIGP-mwKBD"
      },
      "source": [
        "#1 Hadoop\n",
        "Hadoop is a pre-requisite for Hive <br>\n"
      ]
    },
    {
      "cell_type": "markdown",
      "metadata": {
        "id": "j9bT9M1yvyXG"
      },
      "source": [
        "## 1.1 Download, Install Hadoop"
      ]
    },
    {
      "cell_type": "code",
      "metadata": {
        "id": "NXFZuorwF25e"
      },
      "source": [
        "# The default JVM available at /usr/lib/jvm/java-11-openjdk-amd64/  works for Hadoop\n",
        "# But gives errors with Hive https://stackoverflow.com/questions/54037773/hive-exception-class-jdk-internal-loader-classloadersappclassloader-cannot\n",
        "# Hence this JVM needs to be installed\n",
        "!apt-get update > /dev/null\n",
        "!apt-get install openjdk-8-jdk-headless -qq > /dev/null"
      ],
      "execution_count": null,
      "outputs": []
    },
    {
      "cell_type": "code",
      "metadata": {
        "id": "bijZAdD_cBMK",
        "colab": {
          "base_uri": "https://localhost:8080/"
        },
        "outputId": "6670bea4-f314-483c-cadf-340a798494c5"
      },
      "source": [
        "# Download the latest version of Hadoop\n",
        "# Change the version number in this and subsequent cells\n",
        "#\n",
        "!wget https://downloads.apache.org/hadoop/common/hadoop-3.3.2/hadoop-3.3.2.tar.gz\n",
        "# Unzip it\n",
        "# the tar command with the -x flag to extract, -z to uncompress, -v for verbose output, and -f to specify that we’re extracting from a file\n",
        "!tar -xzf hadoop-3.3.2.tar.gz\n",
        "#copy  hadoop file to user/local\n",
        "!mv  hadoop-3.3.2/ /usr/local/"
      ],
      "execution_count": null,
      "outputs": [
        {
          "output_type": "stream",
          "name": "stdout",
          "text": [
            "--2022-05-09 16:31:22--  https://downloads.apache.org/hadoop/common/hadoop-3.3.2/hadoop-3.3.2.tar.gz\n",
            "Resolving downloads.apache.org (downloads.apache.org)... 88.99.95.219, 135.181.214.104, 2a01:4f9:3a:2c57::2, ...\n",
            "Connecting to downloads.apache.org (downloads.apache.org)|88.99.95.219|:443... connected.\n",
            "HTTP request sent, awaiting response... 200 OK\n",
            "Length: 638660563 (609M) [application/x-gzip]\n",
            "Saving to: ‘hadoop-3.3.2.tar.gz’\n",
            "\n",
            "hadoop-3.3.2.tar.gz 100%[===================>] 609.07M  8.70MB/s    in 63s     \n",
            "\n",
            "2022-05-09 16:32:27 (9.64 MB/s) - ‘hadoop-3.3.2.tar.gz’ saved [638660563/638660563]\n",
            "\n"
          ]
        }
      ]
    },
    {
      "cell_type": "markdown",
      "metadata": {
        "id": "Vh6Dqbbrwqpe"
      },
      "source": [
        "## 1.2 Set Environment Variables\n"
      ]
    },
    {
      "cell_type": "code",
      "metadata": {
        "id": "_OUc19ZtcBG5",
        "colab": {
          "base_uri": "https://localhost:8080/"
        },
        "outputId": "aae4c267-6afd-4cf3-9017-e94f613f2886"
      },
      "source": [
        "#To find the default Java path\n",
        "!readlink -f /usr/bin/java | sed \"s:bin/java::\"\n",
        "!ls /usr/lib/jvm/"
      ],
      "execution_count": null,
      "outputs": [
        {
          "output_type": "stream",
          "name": "stdout",
          "text": [
            "/usr/lib/jvm/java-11-openjdk-amd64/\n",
            "default-java\t\t   java-11-openjdk-amd64     java-8-openjdk-amd64\n",
            "java-1.11.0-openjdk-amd64  java-1.8.0-openjdk-amd64\n"
          ]
        }
      ]
    },
    {
      "cell_type": "code",
      "metadata": {
        "id": "_ez4T7Gs3RAn"
      },
      "source": [
        "#To set java path, go to /usr/local/hadoop-3.3.0/etc/hadoop/hadoop-env.sh then\n",
        "#. . . export JAVA_HOME=/usr/lib/jvm/java-11-openjdk-amd64/ . . .\n",
        "#we have used a simpler alternative route using os.environ - it works\n",
        "\n",
        "import os\n",
        "os.environ[\"JAVA_HOME\"] = \"/usr/lib/jvm/java-8-openjdk-amd64\"   # default is changed\n",
        "#os.environ[\"JAVA_HOME\"] = \"/usr/lib/jvm/java-11-openjdk-amd64/\"\n",
        "os.environ[\"HADOOP_HOME\"] = \"/usr/local/hadoop-3.3.2/\""
      ],
      "execution_count": null,
      "outputs": []
    },
    {
      "cell_type": "code",
      "metadata": {
        "colab": {
          "base_uri": "https://localhost:8080/"
        },
        "id": "XKOGAmCVhXZ4",
        "outputId": "2783253f-7f2b-4b07-b2d0-5fd213aa4517"
      },
      "source": [
        "!echo $PATH"
      ],
      "execution_count": null,
      "outputs": [
        {
          "output_type": "stream",
          "name": "stdout",
          "text": [
            "/opt/bin:/usr/local/nvidia/bin:/usr/local/cuda/bin:/usr/local/sbin:/usr/local/bin:/usr/sbin:/usr/bin:/sbin:/bin:/tools/node/bin:/tools/google-cloud-sdk/bin\n"
          ]
        }
      ]
    },
    {
      "cell_type": "code",
      "metadata": {
        "id": "vDFgpWGLhdhl"
      },
      "source": [
        "# Add Hadoop BIN to PATH\n",
        "# get current_path from output of previous command\n",
        "#current_path = '/usr/local/nvidia/bin:/usr/local/cuda/bin:/usr/local/sbin:/usr/local/bin:/usr/sbin:/usr/bin:/sbin:/bin:/tools/node/bin:/tools/google-cloud-sdk/bin:/opt/bin'\n",
        "current_path = '/opt/bin:/usr/local/nvidia/bin:/usr/local/cuda/bin:/usr/local/sbin:/usr/local/bin:/usr/sbin:/usr/bin:/sbin:/bin:/tools/node/bin:/tools/google-cloud-sdk/bin'\n",
        "new_path = current_path+':/usr/local/hadoop-3.3.2/bin/'\n",
        "os.environ[\"PATH\"] = new_path"
      ],
      "execution_count": null,
      "outputs": []
    },
    {
      "cell_type": "markdown",
      "metadata": {
        "id": "Oj00rPPZyEWZ"
      },
      "source": [
        "## 1.3 Test Hadoop Installation"
      ]
    },
    {
      "cell_type": "code",
      "metadata": {
        "id": "Zhf-zK7NcBDF"
      },
      "source": [
        "#Running Hadoop - Test RUN, not doing anything at all\n",
        "#!/usr/local/hadoop-3.3.0/bin/hadoop\n",
        "# UNCOMMENT the following line if you want to make sure that Hadoop is alive!\n",
        "#!hadoop"
      ],
      "execution_count": null,
      "outputs": []
    },
    {
      "cell_type": "code",
      "metadata": {
        "id": "0n3I6iqjGod-"
      },
      "source": [
        "# Testing Hadoop with PI generating sample program, should calculate value of pi = 3.14157500000000000000\n",
        "# pi example\n",
        "#Uncomment the following line if  you want to test Hadoop with pi example\n",
        "#!hadoop jar /usr/local/hadoop-3.3.0/share/hadoop/mapreduce/hadoop-mapreduce-examples-3.3.0.jar pi 16 100000"
      ],
      "execution_count": null,
      "outputs": []
    },
    {
      "cell_type": "markdown",
      "metadata": {
        "id": "RUlA5c3yRCx1"
      },
      "source": [
        "#2 Hive"
      ]
    },
    {
      "cell_type": "markdown",
      "metadata": {
        "id": "pURJ-sKVsymi"
      },
      "source": [
        "## 2.1 Download, Install HIVE"
      ]
    },
    {
      "cell_type": "code",
      "metadata": {
        "colab": {
          "base_uri": "https://localhost:8080/"
        },
        "id": "TFsywGzPRaYp",
        "outputId": "01546ecf-753f-40c4-8b61-8c3b37eaf609"
      },
      "source": [
        "# Download and Unzip the correct version and unzip\n",
        "!wget https://downloads.apache.org/hive/hive-3.1.2/apache-hive-3.1.2-bin.tar.gz\n",
        "!tar xzf apache-hive-3.1.2-bin.tar.gz"
      ],
      "execution_count": null,
      "outputs": [
        {
          "output_type": "stream",
          "name": "stdout",
          "text": [
            "--2022-05-09 16:36:26--  https://downloads.apache.org/hive/hive-3.1.2/apache-hive-3.1.2-bin.tar.gz\n",
            "Resolving downloads.apache.org (downloads.apache.org)... 135.181.214.104, 88.99.95.219, 2a01:4f9:3a:2c57::2, ...\n",
            "Connecting to downloads.apache.org (downloads.apache.org)|135.181.214.104|:443... connected.\n",
            "HTTP request sent, awaiting response... 200 OK\n",
            "Length: 278813748 (266M) [application/x-gzip]\n",
            "Saving to: ‘apache-hive-3.1.2-bin.tar.gz.1’\n",
            "\n",
            "apache-hive-3.1.2-b 100%[===================>] 265.90M  10.6MB/s    in 27s     \n",
            "\n",
            "2022-05-09 16:36:54 (9.91 MB/s) - ‘apache-hive-3.1.2-bin.tar.gz.1’ saved [278813748/278813748]\n",
            "\n"
          ]
        }
      ]
    },
    {
      "cell_type": "markdown",
      "metadata": {
        "id": "Aq6QYCVetNED"
      },
      "source": [
        "## 2.2 Set Environment *Variables*"
      ]
    },
    {
      "cell_type": "code",
      "metadata": {
        "colab": {
          "base_uri": "https://localhost:8080/"
        },
        "id": "7qROUu4vSdEU",
        "outputId": "574023d4-fc5e-40aa-f513-8cb86e68215b"
      },
      "source": [
        "# Make sure that the version number is correct and is as downloaded\n",
        "os.environ[\"HIVE_HOME\"] = \"/content/apache-hive-3.1.2-bin\"\n",
        "!echo $HIVE_HOME"
      ],
      "execution_count": null,
      "outputs": [
        {
          "output_type": "stream",
          "name": "stdout",
          "text": [
            "/content/apache-hive-3.1.2-bin\n"
          ]
        }
      ]
    },
    {
      "cell_type": "code",
      "metadata": {
        "colab": {
          "base_uri": "https://localhost:8080/"
        },
        "id": "1NFES7SBYkUt",
        "outputId": "679b4d97-530e-4b6d-c141-6961ea278493"
      },
      "source": [
        "!echo $PATH"
      ],
      "execution_count": null,
      "outputs": [
        {
          "output_type": "stream",
          "name": "stdout",
          "text": [
            "/opt/bin:/usr/local/nvidia/bin:/usr/local/cuda/bin:/usr/local/sbin:/usr/local/bin:/usr/sbin:/usr/bin:/sbin:/bin:/tools/node/bin:/tools/google-cloud-sdk/bin:/usr/local/hadoop-3.3.2/bin/\n"
          ]
        }
      ]
    },
    {
      "cell_type": "code",
      "metadata": {
        "colab": {
          "base_uri": "https://localhost:8080/"
        },
        "id": "dx3pKQ9PTBfR",
        "outputId": "cab05afa-6b73-4841-ff65-1c58aecca8dc"
      },
      "source": [
        "# current_path is set from output of previous command\n",
        "#current_path = '/usr/local/nvidia/bin:/usr/local/cuda/bin:/usr/local/sbin:/usr/local/bin:/usr/sbin:/usr/bin:/sbin:/bin:/tools/node/bin:/tools/google-cloud-sdk/bin:/opt/bin:/usr/local/hadoop-3.3.0/bin/'\n",
        "current_path = '/opt/bin:/usr/local/nvidia/bin:/usr/local/cuda/bin:/usr/local/sbin:/usr/local/bin:/usr/sbin:/usr/bin:/sbin:/bin:/tools/node/bin:/tools/google-cloud-sdk/bin:/usr/local/hadoop-3.3.2/bin/'\n",
        "new_path = current_path+':/content/apache-hive-3.1.2-bin/bin'\n",
        "os.environ[\"PATH\"] = new_path\n",
        "!echo $PATH"
      ],
      "execution_count": null,
      "outputs": [
        {
          "output_type": "stream",
          "name": "stdout",
          "text": [
            "/opt/bin:/usr/local/nvidia/bin:/usr/local/cuda/bin:/usr/local/sbin:/usr/local/bin:/usr/sbin:/usr/bin:/sbin:/bin:/tools/node/bin:/tools/google-cloud-sdk/bin:/usr/local/hadoop-3.3.2/bin/:/content/apache-hive-3.1.2-bin/bin\n"
          ]
        }
      ]
    },
    {
      "cell_type": "code",
      "metadata": {
        "colab": {
          "base_uri": "https://localhost:8080/"
        },
        "id": "BfiA2LItT_L2",
        "outputId": "bd8639a7-2726-4fc9-afb8-6cb668e4020c"
      },
      "source": [
        "!echo $JAVA_HOME\n",
        "!echo $HADOOP_HOME\n",
        "!echo $HIVE_HOME"
      ],
      "execution_count": null,
      "outputs": [
        {
          "output_type": "stream",
          "name": "stdout",
          "text": [
            "/usr/lib/jvm/java-8-openjdk-amd64\n",
            "/usr/local/hadoop-3.3.2/\n",
            "/content/apache-hive-3.1.2-bin\n"
          ]
        }
      ]
    },
    {
      "cell_type": "markdown",
      "metadata": {
        "id": "AryjHG4ltfEe"
      },
      "source": [
        "## 2.3 Set up HDFS Directories"
      ]
    },
    {
      "cell_type": "code",
      "metadata": {
        "colab": {
          "base_uri": "https://localhost:8080/"
        },
        "id": "Dry58UPMVTat",
        "outputId": "c017c7d6-07fa-4e7f-8239-eb37f9671134"
      },
      "source": [
        "!hdfs dfs -mkdir /tmp\n",
        "!hdfs dfs -chmod g+w /tmp\n",
        "#!hdfs dfs -ls /\n",
        "!hdfs dfs -mkdir -p /content/warehouse\n",
        "!hdfs dfs -chmod g+w /content/warehouse\n",
        "#!hdfs dfs -ls /content/"
      ],
      "execution_count": null,
      "outputs": [
        {
          "output_type": "stream",
          "name": "stdout",
          "text": [
            "mkdir: `/tmp': File exists\n"
          ]
        }
      ]
    },
    {
      "cell_type": "markdown",
      "metadata": {
        "id": "0VrvjhfG2JXs"
      },
      "source": [
        "## 2.4 Initialise HIVE - note and fix errors"
      ]
    },
    {
      "cell_type": "code",
      "metadata": {
        "id": "zLX7AvL8YLMY",
        "colab": {
          "base_uri": "https://localhost:8080/"
        },
        "outputId": "881b9509-d9a0-438e-bbcf-1f3a46b9c2b7"
      },
      "source": [
        "# TYPE this command, do not copy and paste. Non printing characters cause havoc \n",
        "# There will be two errors, that we will fix\n",
        "# UNCOMMENT the following line if you WISH TO SEE the errors\n",
        "!schematool -initSchema -dbType derby\n"
      ],
      "execution_count": null,
      "outputs": [
        {
          "output_type": "stream",
          "name": "stdout",
          "text": [
            "SLF4J: Class path contains multiple SLF4J bindings.\n",
            "SLF4J: Found binding in [jar:file:/content/apache-hive-3.1.2-bin/lib/log4j-slf4j-impl-2.10.0.jar!/org/slf4j/impl/StaticLoggerBinder.class]\n",
            "SLF4J: Found binding in [jar:file:/usr/local/hadoop-3.3.2/share/hadoop/common/lib/slf4j-log4j12-1.7.30.jar!/org/slf4j/impl/StaticLoggerBinder.class]\n",
            "SLF4J: See http://www.slf4j.org/codes.html#multiple_bindings for an explanation.\n",
            "SLF4J: Actual binding is of type [org.apache.logging.slf4j.Log4jLoggerFactory]\n",
            "Metastore connection URL:\t jdbc:derby:;databaseName=metastore_db;create=true\n",
            "Metastore Connection Driver :\t org.apache.derby.jdbc.EmbeddedDriver\n",
            "Metastore connection User:\t APP\n",
            "Starting metastore schema initialization to 3.1.0\n",
            "Initialization script hive-schema-3.1.0.derby.sql\n",
            "\n",
            " \n",
            " \n",
            " \n",
            " \n",
            " \n",
            " \n",
            " \n",
            " \n",
            " \n",
            "\n",
            " \n",
            " \n",
            " \n",
            " \n",
            " \n",
            " \n",
            " \n",
            " \n",
            " \n",
            " \n",
            " \n",
            " \n",
            " \n",
            " \n",
            " \n",
            " \n",
            " \n",
            " \n",
            " \n",
            " \n",
            " \n",
            " \n",
            " \n",
            " \n",
            " \n",
            "\n",
            " \n",
            " \n",
            " \n",
            " \n",
            " \n",
            " \n",
            " \n",
            " \n",
            " \n",
            " \n",
            " \n",
            " \n",
            " \n",
            " \n",
            " \n",
            " \n",
            " \n",
            " \n",
            " \n",
            " \n",
            " \n",
            " \n",
            "\n",
            " \n",
            " \n",
            " \n",
            " \n",
            " \n",
            " \n",
            " \n",
            " \n",
            "\n",
            " \n",
            "\n",
            " \n",
            " \n",
            " \n",
            "\n",
            " \n",
            " \n",
            " \n",
            "\n",
            "\n",
            " \n",
            " \n",
            " \n",
            "\n",
            " \n",
            " \n",
            " \n",
            "\n",
            "\n",
            " \n",
            " \n",
            " \n",
            " \n",
            " \n",
            " \n",
            " \n",
            "\n",
            "\n",
            " \n",
            " \n",
            " \n",
            "\n",
            " \n",
            " \n",
            " \n",
            "\n",
            " \n",
            " \n",
            "\n",
            " \n",
            " \n",
            " \n",
            " \n",
            " \n",
            "\n",
            " \n",
            " \n",
            " \n",
            " \n",
            " \n",
            " \n",
            " \n",
            " \n",
            " \n",
            " \n",
            " \n",
            " \n",
            "\n",
            " \n",
            " \n",
            " \n",
            " \n",
            " \n",
            " \n",
            "\n",
            " \n",
            " \n",
            " \n",
            " \n",
            " \n",
            " \n",
            " \n",
            " \n",
            " \n",
            " \n",
            " \n",
            " \n",
            " \n",
            " \n",
            " \n",
            " \n",
            " \n",
            " \n",
            " \n",
            " \n",
            " \n",
            " \n",
            " \n",
            "\n",
            " \n",
            " \n",
            " \n",
            " \n",
            " \n",
            " \n",
            " \n",
            " \n",
            " \n",
            " \n",
            " \n",
            " \n",
            " \n",
            "\n",
            " \n",
            " \n",
            " \n",
            "\n",
            " \n",
            " \n",
            " \n",
            " \n",
            " \n",
            " \n",
            " \n",
            " \n",
            " \n",
            " \n",
            " \n",
            " \n",
            " \n",
            " \n",
            " \n",
            " \n",
            "\n",
            " \n",
            " \n",
            "\n",
            "\n",
            " \n",
            "\n",
            "\n",
            "\n",
            " \n",
            "\n",
            "\n",
            " \n",
            " \n",
            " \n",
            " \n",
            " \n",
            " \n",
            " \n",
            " \n",
            " \n",
            "\n",
            " \n",
            " \n",
            " \n",
            " \n",
            " \n",
            " \n",
            "\n",
            " \n",
            "\n",
            "\n",
            "Initialization script completed\n",
            "schemaTool completed\n"
          ]
        }
      ]
    },
    {
      "cell_type": "markdown",
      "metadata": {
        "id": "v21CxgGLuJPQ"
      },
      "source": [
        "### 2.4.1 Fix One Warning, One Error \n",
        "SLF4J is duplicate, need to locate them and remove one <br>\n",
        "Guava jar version is low"
      ]
    },
    {
      "cell_type": "code",
      "metadata": {
        "colab": {
          "base_uri": "https://localhost:8080/"
        },
        "id": "Becy3BABuE8b",
        "outputId": "e9b9216e-3fc6-44c5-a21f-6b1f2dc1d244"
      },
      "source": [
        "# locate multiple instances of slf4j ...\n",
        "!ls $HADOOP_HOME/share/hadoop/common/lib/*slf4j*\n",
        "!ls $HIVE_HOME/lib/*slf4j*"
      ],
      "execution_count": null,
      "outputs": [
        {
          "output_type": "stream",
          "name": "stdout",
          "text": [
            "/usr/local/hadoop-3.3.2//share/hadoop/common/lib/jul-to-slf4j-1.7.30.jar\n",
            "/usr/local/hadoop-3.3.2//share/hadoop/common/lib/slf4j-api-1.7.30.jar\n",
            "/usr/local/hadoop-3.3.2//share/hadoop/common/lib/slf4j-log4j12-1.7.30.jar\n",
            "/content/apache-hive-3.1.2-bin/lib/log4j-slf4j-impl-2.10.0.jar\n"
          ]
        }
      ]
    },
    {
      "cell_type": "code",
      "metadata": {
        "id": "DEUomnHGu4kR"
      },
      "source": [
        "# removed the logging jar from Hive, retaining the Hadoop jar\n",
        "!mv /content/apache-hive-3.1.2-bin/lib/log4j-slf4j-impl-2.10.0.jar ./"
      ],
      "execution_count": null,
      "outputs": []
    },
    {
      "cell_type": "code",
      "metadata": {
        "id": "VwLAYh7TY4ca",
        "colab": {
          "base_uri": "https://localhost:8080/"
        },
        "outputId": "0032bd0f-9db4-442e-9a42-962354ff1112"
      },
      "source": [
        "# guava jar needs to above v 20\n",
        "# https://stackoverflow.com/questions/45247193/nosuchmethoderror-com-google-common-base-preconditions-checkargumentzljava-lan\n",
        "!ls $HIVE_HOME/lib/gu*"
      ],
      "execution_count": null,
      "outputs": [
        {
          "output_type": "stream",
          "name": "stdout",
          "text": [
            "/content/apache-hive-3.1.2-bin/lib/guava-19.0.jar\n"
          ]
        }
      ]
    },
    {
      "cell_type": "code",
      "metadata": {
        "id": "SHpmyrbkZFad",
        "colab": {
          "base_uri": "https://localhost:8080/"
        },
        "outputId": "22803a28-87fb-4a15-a2de-e0a26e018983"
      },
      "source": [
        "# the one available with Hadoop is better, v 27\n",
        "!ls $HADOOP_HOME/share/hadoop/hdfs/lib/gu*"
      ],
      "execution_count": null,
      "outputs": [
        {
          "output_type": "stream",
          "name": "stdout",
          "text": [
            "/usr/local/hadoop-3.3.2//share/hadoop/hdfs/lib/guava-27.0-jre.jar\n"
          ]
        }
      ]
    },
    {
      "cell_type": "code",
      "metadata": {
        "id": "bJ3Ex1vyZeZG"
      },
      "source": [
        "# Remove the Hive Guava and replace with Hadoop Guava\n",
        "!mv $HIVE_HOME/lib/guava-19.0.jar ./\n",
        "!cp $HADOOP_HOME/share/hadoop/hdfs/lib/guava-27.0-jre.jar $HIVE_HOME/lib/"
      ],
      "execution_count": null,
      "outputs": []
    },
    {
      "cell_type": "markdown",
      "metadata": {
        "id": "TdtNOXy8v4iD"
      },
      "source": [
        "##2.5 Initialize HIVE"
      ]
    },
    {
      "cell_type": "code",
      "metadata": {
        "colab": {
          "base_uri": "https://localhost:8080/"
        },
        "id": "9Tzw4XkApRg3",
        "outputId": "c6494301-5dad-4a0a-f1c3-734f4683efef"
      },
      "source": [
        "#Type this command, dont copy-paste\n",
        "# Non printing characters inside the command will give totally illogical errors\n",
        "!schematool -initSchema -dbType derby"
      ],
      "execution_count": null,
      "outputs": [
        {
          "output_type": "stream",
          "name": "stdout",
          "text": [
            "Metastore connection URL:\t jdbc:derby:;databaseName=metastore_db;create=true\n",
            "Metastore Connection Driver :\t org.apache.derby.jdbc.EmbeddedDriver\n",
            "Metastore connection User:\t APP\n",
            "Starting metastore schema initialization to 3.1.0\n",
            "Initialization script hive-schema-3.1.0.derby.sql\n",
            "\n",
            " \n",
            "Error: FUNCTION 'NUCLEUS_ASCII' already exists. (state=X0Y68,code=30000)\n",
            "org.apache.hadoop.hive.metastore.HiveMetaException: Schema initialization FAILED! Metastore state would be inconsistent !!\n",
            "Underlying cause: java.io.IOException : Schema script failed, errorcode 2\n",
            "Use --verbose for detailed stacktrace.\n",
            "*** schemaTool failed ***\n"
          ]
        }
      ]
    },
    {
      "cell_type": "markdown",
      "metadata": {
        "id": "nALF720ewT_-"
      },
      "source": [
        "## 2.6 Test HIVE \n",
        "1. Create database\n",
        "2. Create table\n",
        "3. Insert data\n",
        "4. Retrieve data\n",
        "\n",
        "using command line options as [given here](https://cwiki.apache.org/confluence/display/hive/languagemanual+cli#)."
      ]
    },
    {
      "cell_type": "code",
      "metadata": {
        "colab": {
          "base_uri": "https://localhost:8080/"
        },
        "id": "hKBG__HrKt9N",
        "outputId": "bfc6f12c-0975-4691-898a-e98e6c92e801"
      },
      "source": [
        "!hive -e \"create database if not exists praxisDB;\""
      ],
      "execution_count": null,
      "outputs": [
        {
          "output_type": "stream",
          "name": "stdout",
          "text": [
            "Hive Session ID = 0bb0aaf9-bb36-4e22-bef6-c9ce9d8d0e6d\n",
            "\n",
            "Logging initialized using configuration in jar:file:/content/apache-hive-3.1.2-bin/lib/hive-common-3.1.2.jar!/hive-log4j2.properties Async: true\n",
            "Hive Session ID = b8a3b9f1-8f7f-4a13-bca2-271d702bc1e9\n",
            "OK\n",
            "Time taken: 1.471 seconds\n"
          ]
        }
      ]
    },
    {
      "cell_type": "code",
      "metadata": {
        "colab": {
          "base_uri": "https://localhost:8080/"
        },
        "id": "thoqjjcHZoLU",
        "outputId": "2b8b1731-4fce-4a7c-b2b2-c1bf21728390"
      },
      "source": [
        "!hive -e \"show databases\""
      ],
      "execution_count": null,
      "outputs": [
        {
          "output_type": "stream",
          "name": "stdout",
          "text": [
            "Hive Session ID = 005827ff-0343-4f53-bb19-c199e5ae235c\n",
            "\n",
            "Logging initialized using configuration in jar:file:/content/apache-hive-3.1.2-bin/lib/hive-common-3.1.2.jar!/hive-log4j2.properties Async: true\n",
            "Hive Session ID = dda1ea1d-547e-4ec4-a8ea-442b1baa1ba4\n",
            "OK\n",
            "default\n",
            "praxisdb\n",
            "Time taken: 1.55 seconds, Fetched: 2 row(s)\n"
          ]
        }
      ]
    },
    {
      "cell_type": "code",
      "metadata": {
        "colab": {
          "base_uri": "https://localhost:8080/"
        },
        "id": "duhKRlsnax6U",
        "outputId": "03bdd2f8-127e-46f7-9d45-36fe60833b46"
      },
      "source": [
        "!hive -database praxisdb -e \"create table if not exists emp (name string, age int)\""
      ],
      "execution_count": null,
      "outputs": [
        {
          "output_type": "stream",
          "name": "stdout",
          "text": [
            "Hive Session ID = 7f9a993f-84fb-4566-b8cd-07576685b7de\n",
            "\n",
            "Logging initialized using configuration in jar:file:/content/apache-hive-3.1.2-bin/lib/hive-common-3.1.2.jar!/hive-log4j2.properties Async: true\n",
            "Hive Session ID = 6d6569e8-635e-4c65-971c-9bb5d9545259\n",
            "OK\n",
            "Time taken: 0.984 seconds\n",
            "OK\n",
            "Time taken: 1.438 seconds\n"
          ]
        }
      ]
    },
    {
      "cell_type": "code",
      "metadata": {
        "colab": {
          "base_uri": "https://localhost:8080/"
        },
        "id": "YlXhPGIBbd7v",
        "outputId": "a7d79bcc-630d-49c0-e13f-4ea43acc40a4"
      },
      "source": [
        "!hive -database praxisdb -e \"show tables\""
      ],
      "execution_count": null,
      "outputs": [
        {
          "output_type": "stream",
          "name": "stdout",
          "text": [
            "Hive Session ID = 7881f69a-39db-4a7e-8cbb-555e77e14d8a\n",
            "\n",
            "Logging initialized using configuration in jar:file:/content/apache-hive-3.1.2-bin/lib/hive-common-3.1.2.jar!/hive-log4j2.properties Async: true\n",
            "Hive Session ID = 6a723131-a154-43d1-a98c-81c90331f71e\n",
            "OK\n",
            "Time taken: 1.198 seconds\n",
            "OK\n",
            "emp\n",
            "Time taken: 0.595 seconds, Fetched: 1 row(s)\n"
          ]
        }
      ]
    },
    {
      "cell_type": "code",
      "metadata": {
        "colab": {
          "base_uri": "https://localhost:8080/"
        },
        "id": "VBbc2fzSb4Po",
        "outputId": "23ab2c8c-b83c-42ee-bad3-879f71fa7a59"
      },
      "source": [
        "!hive -database praxisdb -e \"insert into emp values ('naren', 70)\""
      ],
      "execution_count": null,
      "outputs": [
        {
          "output_type": "stream",
          "name": "stdout",
          "text": [
            "Hive Session ID = a8f2a949-14d5-4ba5-b616-3cfa386dc5d9\n",
            "\n",
            "Logging initialized using configuration in jar:file:/content/apache-hive-3.1.2-bin/lib/hive-common-3.1.2.jar!/hive-log4j2.properties Async: true\n",
            "Hive Session ID = 6b55c602-4c1b-4afc-970a-88179020bc1f\n",
            "OK\n",
            "Time taken: 1.019 seconds\n",
            "Query ID = root_20220509163914_4836ef12-99f8-48df-aa0a-3fea3c5e6ffa\n",
            "Total jobs = 3\n",
            "Launching Job 1 out of 3\n",
            "Number of reduce tasks determined at compile time: 1\n",
            "In order to change the average load for a reducer (in bytes):\n",
            "  set hive.exec.reducers.bytes.per.reducer=<number>\n",
            "In order to limit the maximum number of reducers:\n",
            "  set hive.exec.reducers.max=<number>\n",
            "In order to set a constant number of reducers:\n",
            "  set mapreduce.job.reduces=<number>\n",
            "Job running in-process (local Hadoop)\n",
            "2022-05-09 16:39:20,943 Stage-1 map = 100%,  reduce = 100%\n",
            "Ended Job = job_local2098634717_0001\n",
            "Stage-4 is selected by condition resolver.\n",
            "Stage-3 is filtered out by condition resolver.\n",
            "Stage-5 is filtered out by condition resolver.\n",
            "Moving data to directory file:/user/hive/warehouse/praxisdb.db/emp/.hive-staging_hive_2022-05-09_16-39-14_937_8395317310741341121-1/-ext-10000\n",
            "Loading data to table praxisdb.emp\n",
            "MapReduce Jobs Launched: \n",
            "Stage-Stage-1:  HDFS Read: 0 HDFS Write: 0 SUCCESS\n",
            "Total MapReduce CPU Time Spent: 0 msec\n",
            "OK\n",
            "Time taken: 7.149 seconds\n"
          ]
        }
      ]
    },
    {
      "cell_type": "code",
      "metadata": {
        "colab": {
          "base_uri": "https://localhost:8080/"
        },
        "id": "q1KvSvdgx7Hc",
        "outputId": "6630f7b4-0fbb-4587-ab03-4f980d45036a"
      },
      "source": [
        "!hive -database praxisdb -e \"insert into emp values ('aditya', 49)\""
      ],
      "execution_count": null,
      "outputs": [
        {
          "output_type": "stream",
          "name": "stdout",
          "text": [
            "Hive Session ID = b863c4e2-0532-4138-92ea-1b310d7fae87\n",
            "\n",
            "Logging initialized using configuration in jar:file:/content/apache-hive-3.1.2-bin/lib/hive-common-3.1.2.jar!/hive-log4j2.properties Async: true\n",
            "Hive Session ID = c219bb78-d54a-44bd-96e7-13c026c17d5c\n",
            "OK\n",
            "Time taken: 1.031 seconds\n",
            "Query ID = root_20220509163936_9162c484-1245-4e91-9e17-1f75d1a92646\n",
            "Total jobs = 3\n",
            "Launching Job 1 out of 3\n",
            "Number of reduce tasks determined at compile time: 1\n",
            "In order to change the average load for a reducer (in bytes):\n",
            "  set hive.exec.reducers.bytes.per.reducer=<number>\n",
            "In order to limit the maximum number of reducers:\n",
            "  set hive.exec.reducers.max=<number>\n",
            "In order to set a constant number of reducers:\n",
            "  set mapreduce.job.reduces=<number>\n",
            "Job running in-process (local Hadoop)\n",
            "2022-05-09 16:39:43,061 Stage-1 map = 100%,  reduce = 100%\n",
            "Ended Job = job_local1997255114_0001\n",
            "Stage-4 is selected by condition resolver.\n",
            "Stage-3 is filtered out by condition resolver.\n",
            "Stage-5 is filtered out by condition resolver.\n",
            "Moving data to directory file:/user/hive/warehouse/praxisdb.db/emp/.hive-staging_hive_2022-05-09_16-39-36_805_3673239523585818447-1/-ext-10000\n",
            "Loading data to table praxisdb.emp\n",
            "MapReduce Jobs Launched: \n",
            "Stage-Stage-1:  HDFS Read: 0 HDFS Write: 0 SUCCESS\n",
            "Total MapReduce CPU Time Spent: 0 msec\n",
            "OK\n",
            "Time taken: 7.403 seconds\n"
          ]
        }
      ]
    },
    {
      "cell_type": "code",
      "metadata": {
        "colab": {
          "base_uri": "https://localhost:8080/"
        },
        "id": "DFxnPRbQclhP",
        "outputId": "fa1fad32-10bf-4d41-8578-63fe551a3d7f"
      },
      "source": [
        "!hive -database praxisdb -e \"select * from emp\""
      ],
      "execution_count": null,
      "outputs": [
        {
          "output_type": "stream",
          "name": "stdout",
          "text": [
            "Hive Session ID = 098e5489-72be-44e0-a9dc-715d5acd67be\n",
            "\n",
            "Logging initialized using configuration in jar:file:/content/apache-hive-3.1.2-bin/lib/hive-common-3.1.2.jar!/hive-log4j2.properties Async: true\n",
            "Hive Session ID = 54af8803-2ca1-4d54-8421-db230495d4a0\n",
            "OK\n",
            "Time taken: 1.021 seconds\n",
            "OK\n",
            "aditya\t49\n",
            "naren\t70\n",
            "Time taken: 3.029 seconds, Fetched: 2 row(s)\n"
          ]
        }
      ]
    },
    {
      "cell_type": "code",
      "metadata": {
        "colab": {
          "base_uri": "https://localhost:8080/"
        },
        "id": "4Rwm36kUya6A",
        "outputId": "9bc7070c-5c7a-45c9-e3fc-938ae9418e4f"
      },
      "source": [
        "# Silent Mode\n",
        "!hive -S -database praxisdb -e \"select * from emp\""
      ],
      "execution_count": null,
      "outputs": [
        {
          "output_type": "stream",
          "name": "stdout",
          "text": [
            "Hive Session ID = 7f5d0118-9932-4cf3-8e70-ce1c58a02f10\n",
            "Hive Session ID = a7a90c12-ce7b-4404-924b-9ac8b0605079\n",
            "aditya\t49\n",
            "naren\t70\n"
          ]
        }
      ]
    },
    {
      "cell_type": "markdown",
      "metadata": {
        "id": "xvIfuSAbkHJ9"
      },
      "source": [
        "## 2.7 Bulk Data Load from CSV file"
      ]
    },
    {
      "cell_type": "code",
      "source": [
        "#drop table\n",
        "!hive -database praxisDB -e 'DROP table if exists netflix'\n",
        "#create table\n",
        "# Invoice Date is being treated as a STRING because input data is not correctly formatted\n",
        "!hive -database praxisDB -e \" \\\n",
        "CREATE TABLE netflix ( \\\n",
        " country_code varchar(5), \\\n",
        " country\tvarchar(20), \\\n",
        " library\tfloat, \\\n",
        " tv\t\tfloat, \\\n",
        " movies float, \\\n",
        " cost_basic float, \\\n",
        " cost_standard float, \\\n",
        " cost_premium float \\\n",
        " ) row format delimited fields terminated by ','; \""
      ],
      "metadata": {
        "colab": {
          "base_uri": "https://localhost:8080/"
        },
        "id": "yfS2sR_PE03E",
        "outputId": "9083aefd-e579-4135-a5c2-83f3787ec7ea"
      },
      "execution_count": null,
      "outputs": [
        {
          "output_type": "stream",
          "name": "stdout",
          "text": [
            "Hive Session ID = 5bcd0fa8-f769-48bc-a80b-b6eed670c4bc\n",
            "\n",
            "Logging initialized using configuration in jar:file:/content/apache-hive-3.1.2-bin/lib/hive-common-3.1.2.jar!/hive-log4j2.properties Async: true\n",
            "Hive Session ID = b6d68226-26c3-4667-b23e-611d5306bb1d\n",
            "OK\n",
            "Time taken: 0.989 seconds\n",
            "OK\n",
            "Time taken: 0.128 seconds\n",
            "Hive Session ID = 706b29f9-a112-4fe6-9bb1-1bb1fcec1a10\n",
            "\n",
            "Logging initialized using configuration in jar:file:/content/apache-hive-3.1.2-bin/lib/hive-common-3.1.2.jar!/hive-log4j2.properties Async: true\n",
            "Hive Session ID = ba3d3e72-cd72-472a-a601-dda9a609c68e\n",
            "OK\n",
            "Time taken: 1.0 seconds\n",
            "OK\n",
            "Time taken: 1.722 seconds\n"
          ]
        }
      ]
    },
    {
      "cell_type": "code",
      "metadata": {
        "colab": {
          "base_uri": "https://localhost:8080/"
        },
        "id": "4110Vjf-ktx6",
        "outputId": "b7c23baf-3b37-4fce-8310-2cfa5a2247b6"
      },
      "source": [
        "!hive -database praxisdb -e \"describe netflix\""
      ],
      "execution_count": null,
      "outputs": [
        {
          "output_type": "stream",
          "name": "stdout",
          "text": [
            "Hive Session ID = 6e4617cb-e492-49f8-9612-97b06e88c6fd\n",
            "\n",
            "Logging initialized using configuration in jar:file:/content/apache-hive-3.1.2-bin/lib/hive-common-3.1.2.jar!/hive-log4j2.properties Async: true\n",
            "Hive Session ID = 0860cd41-a521-4527-94d6-3d17ad77abf4\n",
            "OK\n",
            "Time taken: 1.003 seconds\n",
            "OK\n",
            "country_code        \tvarchar(5)          \t                    \n",
            "country             \tvarchar(20)         \t                    \n",
            "library             \tfloat               \t                    \n",
            "tv                  \tfloat               \t                    \n",
            "movies              \tfloat               \t                    \n",
            "cost_basic          \tfloat               \t                    \n",
            "cost_standard       \tfloat               \t                    \n",
            "cost_premium        \tfloat               \t                    \n",
            "Time taken: 1.051 seconds, Fetched: 8 row(s)\n"
          ]
        }
      ]
    },
    {
      "cell_type": "markdown",
      "metadata": {
        "id": "YfyabRo5pm7h"
      },
      "source": [
        "This data may not be clean and may have commas embedded in the CSV file. To see how clearn this look at this notebook : [Spark SQLContext HiveContext](https://github.com/prithwis/KKolab/blob/main/KK_C1_SparkSQL_SQLContext_HiveContext.ipynb) "
      ]
    },
    {
      "cell_type": "code",
      "metadata": {
        "colab": {
          "base_uri": "https://localhost:8080/"
        },
        "id": "MqHKwLOIk67g",
        "outputId": "e490ba35-727d-4413-9ad7-a6cbe2568314"
      },
      "source": [
        "#Data as CSV file\n",
        "#!gdown https://docs.google.com/spreadsheets/d/1WgyXMyj2eEEKWbeoqJ5tPI7cp46W0mMghAL9IidGdp8/edit?usp=sharing"
      ],
      "execution_count": null,
      "outputs": [
        {
          "output_type": "stream",
          "name": "stdout",
          "text": [
            "/usr/local/lib/python3.7/dist-packages/gdown/parse_url.py:39: UserWarning: You specified a Google Drive link that is not the correct link to download a file. You might want to try `--fuzzy` option or the following url: https://drive.google.com/uc?id=None\n",
            "  url=\"https://drive.google.com/uc?id={}\".format(file_id)\n",
            "Downloading...\n",
            "From: https://docs.google.com/spreadsheets/d/1WgyXMyj2eEEKWbeoqJ5tPI7cp46W0mMghAL9IidGdp8/edit?usp=sharing\n",
            "To: /content/edit?usp=sharing\n",
            "217kB [00:00, 3.32MB/s]\n"
          ]
        }
      ]
    },
    {
      "cell_type": "code",
      "metadata": {
        "colab": {
          "base_uri": "https://localhost:8080/"
        },
        "id": "Z3M5Vl0NlNnQ",
        "outputId": "2f245d49-f9bf-4b0f-8c51-89cc50808c5f"
      },
      "source": [
        "#remove the CRLF character from the end of the row if it exists\n",
        "!sed 's/\\r//' /content/netflix.csv> datafile.csv\n",
        "# remove the first line containing headers from the file\n",
        "!sed -i -e \"1d\" datafile.csv    \n",
        "!head datafile.csv           "
      ],
      "execution_count": null,
      "outputs": [
        {
          "output_type": "stream",
          "name": "stdout",
          "text": [
            "ar,Argentina,4760,3154,1606,3.74,6.3,9.26\n",
            "au,Australia,6114,4050,2064,7.84,12.12,16.39\n",
            "at,Austria,5640,3779,1861,9.03,14.67,20.32\n",
            "be,Belgium,4990,3374,1616,10.16,15.24,20.32\n",
            "bo,Bolivia,4991,3155,1836,7.99,10.99,13.99\n",
            "br,Brazil,4972,3162,1810,4.61,7.11,9.96\n",
            "bg,Bulgaria,6797,4819,1978,9.03,11.29,13.54\n",
            "ca,Canada,6239,4311,1928,7.91,11.87,15.03\n",
            "cl,Chile,4994,3156,1838,7.07,9.91,12.74\n",
            "co,Colombia,4991,3156,1835,4.31,6.86,9.93\n"
          ]
        }
      ]
    },
    {
      "cell_type": "code",
      "metadata": {
        "colab": {
          "base_uri": "https://localhost:8080/"
        },
        "id": "XljU-WuElcUB",
        "outputId": "ceb889b5-7a6c-4b1d-893a-9261fbc095f3"
      },
      "source": [
        "# delete all rows from table\n",
        "!hive -database praxisdb -e 'TRUNCATE TABLE netflix'\n",
        "# LOAD\n",
        "!hive -database praxisdb -e \"LOAD DATA LOCAL INPATH 'datafile.csv' INTO TABLE netflix\""
      ],
      "execution_count": null,
      "outputs": [
        {
          "output_type": "stream",
          "name": "stdout",
          "text": [
            "Hive Session ID = b437707b-a907-4c6e-a04b-7bcd4ba61b87\n",
            "\n",
            "Logging initialized using configuration in jar:file:/content/apache-hive-3.1.2-bin/lib/hive-common-3.1.2.jar!/hive-log4j2.properties Async: true\n",
            "Hive Session ID = 449194f5-01ea-46ce-8a38-8ff140fee7cd\n",
            "OK\n",
            "Time taken: 1.124 seconds\n",
            "OK\n",
            "Time taken: 1.563 seconds\n",
            "Hive Session ID = 2f790136-8455-49f9-a244-56ef4e81e4b6\n",
            "\n",
            "Logging initialized using configuration in jar:file:/content/apache-hive-3.1.2-bin/lib/hive-common-3.1.2.jar!/hive-log4j2.properties Async: true\n",
            "Hive Session ID = 7b8cc40f-9563-4e8d-aeed-424be59bab23\n",
            "OK\n",
            "Time taken: 1.051 seconds\n",
            "Loading data to table praxisdb.netflix\n",
            "OK\n",
            "Time taken: 1.736 seconds\n"
          ]
        }
      ]
    },
    {
      "cell_type": "code",
      "metadata": {
        "colab": {
          "base_uri": "https://localhost:8080/"
        },
        "id": "vRceNDPylu2U",
        "outputId": "cd2d3519-7398-4596-a03f-7ff86181afae"
      },
      "source": [
        "!hive -S -database praxisdb -e \"select count(*) from netflix\""
      ],
      "execution_count": null,
      "outputs": [
        {
          "output_type": "stream",
          "name": "stdout",
          "text": [
            "Hive Session ID = e507605b-1a28-4b3f-a579-e46bdefa2408\n",
            "Hive Session ID = f4813632-6521-4781-8e93-5c4b64e4e593\n",
            "65\n"
          ]
        }
      ]
    },
    {
      "cell_type": "code",
      "metadata": {
        "colab": {
          "base_uri": "https://localhost:8080/"
        },
        "id": "m977A2Jnl5mZ",
        "outputId": "75ef9550-37cb-4782-a6ee-01798d08013f"
      },
      "source": [
        "!hive -S -database praxisdb -e \"select * from netflix \""
      ],
      "execution_count": null,
      "outputs": [
        {
          "output_type": "stream",
          "name": "stdout",
          "text": [
            "Hive Session ID = 14718e14-df8a-4695-99ec-5964b85197fe\n",
            "Hive Session ID = dc998616-596d-4a3f-801a-72962e65b5b1\n",
            "ar\tArgentina\t4760.0\t3154.0\t1606.0\t3.74\t6.3\t9.26\n",
            "au\tAustralia\t6114.0\t4050.0\t2064.0\t7.84\t12.12\t16.39\n",
            "at\tAustria\t5640.0\t3779.0\t1861.0\t9.03\t14.67\t20.32\n",
            "be\tBelgium\t4990.0\t3374.0\t1616.0\t10.16\t15.24\t20.32\n",
            "bo\tBolivia\t4991.0\t3155.0\t1836.0\t7.99\t10.99\t13.99\n",
            "br\tBrazil\t4972.0\t3162.0\t1810.0\t4.61\t7.11\t9.96\n",
            "bg\tBulgaria\t6797.0\t4819.0\t1978.0\t9.03\t11.29\t13.54\n",
            "ca\tCanada\t6239.0\t4311.0\t1928.0\t7.91\t11.87\t15.03\n",
            "cl\tChile\t4994.0\t3156.0\t1838.0\t7.07\t9.91\t12.74\n",
            "co\tColombia\t4991.0\t3156.0\t1835.0\t4.31\t6.86\t9.93\n",
            "cr\tCosta Rica\t4988.0\t3152.0\t1836.0\t8.99\t12.99\t15.99\n",
            "hr\tCroatia\t2274.0\t1675.0\t599.0\t9.03\t11.29\t13.54\n",
            "cz\tCzechia\t7325.0\t5234.0\t2091.0\t8.83\t11.49\t14.15\n",
            "dk\tDenmark\t4558.0\t2978.0\t1580.0\t12.0\t15.04\t19.6\n",
            "ec\tEcuador\t4992.0\t3155.0\t1837.0\t7.99\t10.99\t13.99\n",
            "ee\tEstonia\t6456.0\t4486.0\t1970.0\t9.03\t11.29\t13.54\n",
            "fi\tFinland\t4045.0\t2638.0\t1407.0\t9.03\t13.54\t18.06\n",
            "fr\tFrance\t5445.0\t3604.0\t1841.0\t10.16\t15.24\t20.32\n",
            "de\tGermany\t5668.0\t3814.0\t1854.0\t9.03\t14.67\t20.32\n",
            "gi\tGibraltar\t6167.0\t4079.0\t2088.0\t9.03\t14.67\t20.32\n",
            "gr\tGreece\t4772.0\t3344.0\t1428.0\t9.03\t12.42\t15.8\n",
            "gt\tGuatemala\t4767.0\t3154.0\t1613.0\t7.99\t10.99\t13.99\n",
            "hn\tHonduras\t4989.0\t3154.0\t1835.0\t7.99\t10.99\t13.99\n",
            "hk\tHong Kong\t4746.0\t2883.0\t1863.0\t8.08\t10.0\t11.93\n",
            "hu\tHungary\t6884.0\t4802.0\t2082.0\t7.64\t10.71\t13.78\n",
            "is\tIceland\t6387.0\t4426.0\t1961.0\t9.03\t14.67\t20.32\n",
            "in\tIndia\t5843.0\t3718.0\t2125.0\t2.64\t6.61\t8.6\n",
            "id\tIndonesia\t3887.0\t2449.0\t1438.0\t8.36\t10.66\t12.96\n",
            "ie\tIreland\t6486.0\t4515.0\t1971.0\t9.03\t14.67\t20.32\n",
            "il\tIsrael\t5713.0\t3650.0\t2063.0\t10.56\t15.05\t19.54\n",
            "it\tItaly\t5183.0\t3545.0\t1638.0\t9.03\t14.67\t20.32\n",
            "jp\tJapan\t5475.0\t3619.0\t1856.0\t8.73\t13.13\t17.45\n",
            "lv\tLatvia\t6450.0\t4479.0\t1971.0\t9.03\t11.29\t13.54\n",
            "li\tLiechtenstein\t3048.0\t1712.0\t1336.0\t12.88\t20.46\t26.96\n",
            "lt\tLithuania\t6462.0\t4490.0\t1972.0\t9.03\t11.29\t13.54\n",
            "my\tMalaysia\t5952.0\t3565.0\t2387.0\t8.29\t10.65\t13.02\n",
            "mx\tMexico\t4993.0\t3158.0\t1835.0\t6.62\t10.43\t14.24\n",
            "md\tMoldova\t3937.0\t2473.0\t1464.0\t9.03\t11.29\t13.54\n",
            "mc\tMonaco\t5804.0\t3806.0\t1998.0\t9.03\t13.54\t18.06\n",
            "nl\tNetherlands\t5376.0\t3779.0\t1597.0\t9.03\t13.54\t18.06\n",
            "nz\tNew Zealand\t6084.0\t4003.0\t2081.0\t8.8\t12.53\t16.94\n",
            "no\tNorway\t4528.0\t2955.0\t1573.0\t9.94\t12.17\t17.75\n",
            "py\tParaguay\t4797.0\t3155.0\t1642.0\t8.29\t11.49\t14.69\n",
            "pe\tPeru\t4986.0\t3155.0\t1831.0\t6.11\t8.56\t11.01\n",
            "ph\tPhilippines\t6362.0\t4154.0\t2208.0\t7.35\t9.14\t10.93\n",
            "pl\tPoland\t5109.0\t3512.0\t1597.0\t7.13\t10.58\t14.76\n",
            "pt\tPortugal\t5047.0\t3419.0\t1628.0\t9.03\t13.54\t18.06\n",
            "ro\tRomania\t5303.0\t3832.0\t1471.0\t9.03\t11.29\t13.54\n",
            "ru\tRussia\t5711.0\t3624.0\t2087.0\t8.13\t10.84\t13.56\n",
            "sm\tSan Marino\t2310.0\t1937.0\t373.0\t9.03\t14.67\t20.32\n",
            "sg\tSingapore\t6303.0\t4109.0\t2194.0\t9.51\t12.81\t16.11\n",
            "sk\tSlovakia\t7035.0\t5055.0\t1980.0\t9.03\t11.29\t13.54\n",
            "za\tSouth Africa\t5736.0\t3686.0\t2050.0\t6.26\t10.05\t12.58\n",
            "kr\tSouth Korea\t5195.0\t3334.0\t1861.0\t8.07\t11.47\t14.45\n",
            "es\tSpain\t5229.0\t3536.0\t1693.0\t9.03\t14.67\t20.32\n",
            "se\tSweden\t4361.0\t2973.0\t1388.0\t10.9\t14.2\t19.7\n",
            "ch\tSwitzerland\t5506.0\t3654.0\t1852.0\t12.88\t20.46\t26.96\n",
            "tw\tTaiwan\t5105.0\t3134.0\t1971.0\t9.74\t11.9\t14.07\n",
            "th\tThailand\t4948.0\t2977.0\t1971.0\t8.34\t10.43\t12.52\n",
            "tr\tTurkey\t4639.0\t2930.0\t1709.0\t1.97\t3.0\t4.02\n",
            "ua\tUkraine\t5336.0\t3261.0\t2075.0\t5.64\t8.46\t11.29\n",
            "gb\tUnited Kingdom\t6643.0\t4551.0\t2092.0\t7.91\t13.2\t18.48\n",
            "us\tUnited States\t5818.0\t3826.0\t1992.0\t8.99\t13.99\t17.99\n",
            "uy\tUruguay\t4989.0\t3154.0\t1835.0\t8.99\t12.99\t15.99\n",
            "ve\tVenezuela\t4797.0\t3154.0\t1643.0\t7.99\t10.99\t13.99\n"
          ]
        }
      ]
    },
    {
      "cell_type": "code",
      "source": [
        "!hive -S -database praxisdb -e \"select * from netflix where country='Portugal' \""
      ],
      "metadata": {
        "colab": {
          "base_uri": "https://localhost:8080/"
        },
        "id": "e_zXUgReDKOl",
        "outputId": "f5a70510-95a8-4ae8-cfae-74d7a9ae529e"
      },
      "execution_count": null,
      "outputs": [
        {
          "output_type": "stream",
          "name": "stdout",
          "text": [
            "Hive Session ID = 1d6d130d-ac23-4eb6-8e17-ae7e2c6bde51\n",
            "Hive Session ID = b7d0e207-c05a-403a-99d0-841a5f497dc6\n",
            "pt\tPortugal\t5047.0\t3419.0\t1628.0\t9.03\t13.54\t18.06\n"
          ]
        }
      ]
    },
    {
      "cell_type": "code",
      "source": [
        "!hive -S -database praxisdb -e \"select * from netflix where country like 'A%' \""
      ],
      "metadata": {
        "colab": {
          "base_uri": "https://localhost:8080/"
        },
        "id": "fQjVYbFdbdmG",
        "outputId": "d0048740-f650-4aea-a701-e77e625149ae"
      },
      "execution_count": null,
      "outputs": [
        {
          "output_type": "stream",
          "name": "stdout",
          "text": [
            "Hive Session ID = d7cc9144-76d3-4f1e-b961-2330adb43ba1\n",
            "Hive Session ID = 5cf5e9b3-0251-49f3-a266-cb8799007c84\n",
            "ar\tArgentina\t4760.0\t3154.0\t1606.0\t3.74\t6.3\t9.26\n",
            "au\tAustralia\t6114.0\t4050.0\t2064.0\t7.84\t12.12\t16.39\n",
            "at\tAustria\t5640.0\t3779.0\t1861.0\t9.03\t14.67\t20.32\n"
          ]
        }
      ]
    },
    {
      "cell_type": "code",
      "source": [
        "!hive -S -database praxisdb -e \"select round(sum(tv),2) as total_tv,round(sum(movies),2) as total_movie from netflix order by total_tv desc,total_movie desc \""
      ],
      "metadata": {
        "colab": {
          "base_uri": "https://localhost:8080/"
        },
        "id": "_Yk-Q4PwhTjU",
        "outputId": "d0c11b20-d512-4074-fb10-3bb2599999c6"
      },
      "execution_count": null,
      "outputs": [
        {
          "output_type": "stream",
          "name": "stdout",
          "text": [
            "Hive Session ID = 8092880b-abd9-41bb-b5c9-749e9f048e8f\n",
            "Hive Session ID = 3343bd16-14c8-483d-b20a-4e9a33035d9c\n",
            "228732.0\t116705.0\n"
          ]
        }
      ]
    },
    {
      "cell_type": "code",
      "source": [
        "!hive -S -database praxisdb -e \"select round(avg(cost_basic),2) from netflix\""
      ],
      "metadata": {
        "colab": {
          "base_uri": "https://localhost:8080/"
        },
        "id": "Qi5x17e6brVa",
        "outputId": "2667e83a-1766-48f2-fc1b-39b124c3e3a9"
      },
      "execution_count": null,
      "outputs": [
        {
          "output_type": "stream",
          "name": "stdout",
          "text": [
            "Hive Session ID = df17ef88-14b1-4b6e-b8b9-f8fae2bd8d0a\n",
            "Hive Session ID = 2feb5a0a-d615-4318-9761-66fca9538d75\n",
            "8.37\n"
          ]
        }
      ]
    },
    {
      "cell_type": "code",
      "source": [
        "!hive -S -database praxisdb -e \"select country,cost_standard from netflix where country like 'B%' \""
      ],
      "metadata": {
        "colab": {
          "base_uri": "https://localhost:8080/"
        },
        "id": "PjMnYpTFiOTg",
        "outputId": "b956da31-9c4a-474c-c86b-96797745cb02"
      },
      "execution_count": null,
      "outputs": [
        {
          "output_type": "stream",
          "name": "stdout",
          "text": [
            "Hive Session ID = 25cc37ae-55fe-405a-91c8-73d6903a888e\n",
            "Hive Session ID = e06bab52-234a-4b65-9319-e1e04201658b\n",
            "Belgium\t15.24\n",
            "Bolivia\t10.99\n",
            "Brazil\t7.11\n",
            "Bulgaria\t11.29\n"
          ]
        }
      ]
    },
    {
      "cell_type": "code",
      "source": [
        "!hive -S -database praxisdb -e \"select country,cost_premium from netflix where country like 'P%' order by cost_premium desc \""
      ],
      "metadata": {
        "colab": {
          "base_uri": "https://localhost:8080/"
        },
        "id": "p4NzQM5ucho6",
        "outputId": "d267f012-7de5-4fc0-fc6a-5cedafbd91fb"
      },
      "execution_count": null,
      "outputs": [
        {
          "output_type": "stream",
          "name": "stdout",
          "text": [
            "Hive Session ID = 9821b3b8-dfe1-4216-8369-c6e2bc7af72b\n",
            "Hive Session ID = 7beba571-1053-44f8-a88d-5cf9b1e61dbe\n",
            "Portugal\t18.06\n",
            "Poland\t14.76\n",
            "Paraguay\t14.69\n",
            "Peru\t11.01\n",
            "Philippines\t10.93\n"
          ]
        }
      ]
    },
    {
      "cell_type": "code",
      "source": [
        "!hive -S -database praxisdb -e \"select country, movies from netflix where country_code like '%r' order by movies desc\""
      ],
      "metadata": {
        "colab": {
          "base_uri": "https://localhost:8080/"
        },
        "id": "g9i7yM4qdbOi",
        "outputId": "aa23380b-ed3e-45d8-d083-28283090403c"
      },
      "execution_count": null,
      "outputs": [
        {
          "output_type": "stream",
          "name": "stdout",
          "text": [
            "Hive Session ID = 73427d36-049c-441e-ac19-9b36bf08e879\n",
            "Hive Session ID = ba543ff2-0265-42c0-9cc9-b676ee60d461\n",
            "South Korea\t1861.0\n",
            "France\t1841.0\n",
            "Costa Rica\t1836.0\n",
            "Brazil\t1810.0\n",
            "Turkey\t1709.0\n",
            "Argentina\t1606.0\n",
            "Greece\t1428.0\n",
            "Croatia\t599.0\n"
          ]
        }
      ]
    },
    {
      "cell_type": "code",
      "source": [
        "!hive -S -database praxisdb -e \"select country, tv from netflix where country_code like '%y' order by tv desc\""
      ],
      "metadata": {
        "colab": {
          "base_uri": "https://localhost:8080/"
        },
        "id": "iLBCMXE0f4nG",
        "outputId": "1fb2e7d3-b5ef-4dcd-9170-2a6c8b6cf250"
      },
      "execution_count": null,
      "outputs": [
        {
          "output_type": "stream",
          "name": "stdout",
          "text": [
            "Hive Session ID = b8f5b837-44f1-4387-b353-4c32f99b00e7\n",
            "Hive Session ID = 28582726-0b9e-4b93-9e90-1a3a4f1eafcf\n",
            "Malaysia\t3565.0\n",
            "Paraguay\t3155.0\n",
            "Uruguay\t3154.0\n"
          ]
        }
      ]
    }
  ]
}